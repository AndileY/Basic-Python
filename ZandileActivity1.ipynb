{
 "cells": [
  {
   "cell_type": "markdown",
   "id": "4643b18c-46d9-4b90-95e9-36105169edef",
   "metadata": {},
   "source": [
    "## Python Code"
   ]
  },
  {
   "cell_type": "code",
   "execution_count": 2,
   "id": "9674ac19-87e7-4764-a59e-27c6a4dda731",
   "metadata": {},
   "outputs": [],
   "source": [
    "# List \n",
    "car_models = [\"Toyota\" , \"Honda\" , \"Ford\" , \"Isizu\" , \"Kia\"]"
   ]
  },
  {
   "cell_type": "code",
   "execution_count": 4,
   "id": "290c5450-6480-454b-846e-56e0d1e030f9",
   "metadata": {},
   "outputs": [],
   "source": [
    "#Tupples\n",
    "names = (\"Andile\", \"Andiswa\", \"Anele\", \"Asanda\", \"Bongeka\")\n"
   ]
  },
  {
   "cell_type": "markdown",
   "id": "cff7af88-e4d7-4cb1-a7e7-70db0419ede7",
   "metadata": {},
   "source": [
    "## Write program to accept two integers "
   ]
  },
  {
   "cell_type": "code",
   "execution_count": 53,
   "id": "8f7c3c70-e680-4300-8fc2-77ba9ca9ea9d",
   "metadata": {},
   "outputs": [
    {
     "name": "stdin",
     "output_type": "stream",
     "text": [
      "Enter first integer: 3\n",
      "Enter second integer: 4\n"
     ]
    },
    {
     "name": "stdout",
     "output_type": "stream",
     "text": [
      "Product of 3 and 4 is: 12\n"
     ]
    }
   ],
   "source": [
    "#Accept two integers\n",
    "num1 = int (input(\"Enter first integer:\"))\n",
    "num2 = int(input(\"Enter second integer:\"))\n",
    "\n",
    "product = num1 * num2\n",
    "\n",
    "print(\"Product of\", num1, \"and\" , num2, \"is:\", product)"
   ]
  },
  {
   "cell_type": "markdown",
   "id": "05b9cf0e-54f6-4c39-a3d6-972447b695cb",
   "metadata": {},
   "source": [
    "## Write a program accept sides"
   ]
  },
  {
   "cell_type": "code",
   "execution_count": 36,
   "id": "ddf9f5e2-e325-4bf4-a67d-bdfd24213121",
   "metadata": {},
   "outputs": [
    {
     "name": "stdin",
     "output_type": "stream",
     "text": [
      "Enter side of the square:  4\n"
     ]
    },
    {
     "name": "stdout",
     "output_type": "stream",
     "text": [
      "Area of the square is: 16.0\n"
     ]
    }
   ],
   "source": [
    "#Accept side of the square\n",
    "side = float(input(\"Enter side of the square: \"))\n",
    "\n",
    "area = side * side\n",
    "\n",
    "print(\"Area of the square is:\" , area)"
   ]
  },
  {
   "cell_type": "markdown",
   "id": "e1641dc6-7551-4765-b87e-6995fa881f43",
   "metadata": {},
   "source": [
    "## Write a program to prompt to enter two values"
   ]
  },
  {
   "cell_type": "code",
   "execution_count": 40,
   "id": "bea8a493-a4d4-44bc-a294-a2ccd62430af",
   "metadata": {},
   "outputs": [
    {
     "name": "stdin",
     "output_type": "stream",
     "text": [
      "Ente a value for x:  2\n",
      "Enter a value for y:  3\n"
     ]
    },
    {
     "name": "stdout",
     "output_type": "stream",
     "text": [
      "x =:  2\n",
      "y =:  3\n",
      "3 2\n"
     ]
    }
   ],
   "source": [
    "#Prompt to enter to values\n",
    "x = input(\"Ente a value for x: \")\n",
    "y = input (\"Enter a value for y: \")\n",
    "\n",
    "x, y = y,x\n",
    "\n",
    "print(\"x =: \" , y )\n",
    "print (\"y =: \" , x)\n",
    "print(x,y)\n"
   ]
  },
  {
   "cell_type": "markdown",
   "id": "c61f3a43-b8f6-4328-be6f-962ba66c1bbb",
   "metadata": {},
   "source": [
    "## Write a python side of rectangle and calculate perimeter"
   ]
  },
  {
   "cell_type": "code",
   "execution_count": 16,
   "id": "4f8987c0-659e-4cd2-8a38-6ab34bb3356e",
   "metadata": {},
   "outputs": [
    {
     "name": "stdin",
     "output_type": "stream",
     "text": [
      "Enter the length:  4\n",
      "Enter the width:  2\n"
     ]
    },
    {
     "name": "stdout",
     "output_type": "stream",
     "text": [
      "Perimeter of the rectangle:  12.0\n"
     ]
    }
   ],
   "source": [
    "# side of the rectangle\n",
    "length = float(input(\"Enter the length: \"))\n",
    "Width = float(input(\"Enter the width: \"))\n",
    "\n",
    "Perimeter = 2 * (length + Width)\n",
    "\n",
    "print(\"Perimeter of the rectangle: \" , Perimeter)\n",
    "               "
   ]
  },
  {
   "cell_type": "markdown",
   "id": "da6e8218-dec1-46e1-bc1a-7b831f689174",
   "metadata": {},
   "source": [
    "## Write a program to accept name,surname, age and gender"
   ]
  },
  {
   "cell_type": "code",
   "execution_count": 29,
   "id": "a77feae9-0459-4cd0-be9b-7b8d8476a192",
   "metadata": {},
   "outputs": [
    {
     "name": "stdin",
     "output_type": "stream",
     "text": [
      "Enter name:  Ayanda\n",
      "Enter surname:  Dumakude\n",
      "Enter the age:  22\n",
      "Enter gender: women\n"
     ]
    },
    {
     "name": "stdout",
     "output_type": "stream",
     "text": [
      "name: Ayanda\n",
      "surname: Dumakude\n",
      "age: 22\n",
      "gender: women\n"
     ]
    }
   ],
   "source": [
    "Name = (input(\"Enter name: \"))\n",
    "Surname = (input(\"Enter surname: \"))\n",
    "Age = int(input(\"Enter the age: \"))\n",
    "Gender = (input(\"Enter gender:\"))\n",
    "\n",
    "print(\"name:\" , Name)\n",
    "print (\"surname:\", Surname)\n",
    "print(\"age:\" , Age)\n",
    "print(\"gender:\", Gender)"
   ]
  },
  {
   "cell_type": "markdown",
   "id": "ceeab080-ee91-458d-ad59-e2a13ef20cc4",
   "metadata": {},
   "source": [
    "## Print person data one print"
   ]
  },
  {
   "cell_type": "code",
   "execution_count": 32,
   "id": "f5f98877-2602-496e-a816-aa6dbf319d52",
   "metadata": {},
   "outputs": [
    {
     "name": "stdout",
     "output_type": "stream",
     "text": [
      "Ayanda Dumakude 22 women\n"
     ]
    }
   ],
   "source": [
    "print(Name,Surname,Age,Gender)"
   ]
  },
  {
   "cell_type": "markdown",
   "id": "60c6f04e-ddb4-4737-8b13-67d76557010b",
   "metadata": {},
   "source": [
    "## Dispay the first 3 character of the person's firstName"
   ]
  },
  {
   "cell_type": "code",
   "execution_count": 49,
   "id": "fa6519b6-9768-4ae7-a8a4-87375208ce1a",
   "metadata": {},
   "outputs": [
    {
     "name": "stdout",
     "output_type": "stream",
     "text": [
      "Display the names:  Aya\n"
     ]
    }
   ],
   "source": [
    "print(\"Display the names: \" , Name[:3])"
   ]
  },
  {
   "cell_type": "markdown",
   "id": "cf002a09-b69e-4f6b-836c-ae8ca204b455",
   "metadata": {},
   "source": [
    "## Write a python to calculate compound interest "
   ]
  },
  {
   "cell_type": "code",
   "execution_count": 66,
   "id": "6eab9908-43c7-4d81-83e4-9f5ec5a8be52",
   "metadata": {},
   "outputs": [
    {
     "name": "stdin",
     "output_type": "stream",
     "text": [
      "Enter a principal amount:  1000\n",
      "Enter annuel interest rate (in %):  3\n",
      "Enter the number of times interest is compound per year:  5\n",
      "Enter times the money you invested(in years):  5\n"
     ]
    },
    {
     "name": "stdout",
     "output_type": "stream",
     "text": [
      "The compound is: 131428560044.7277\n"
     ]
    }
   ],
   "source": [
    "#Input values\n",
    "\n",
    "P = float(input(\"Enter a principal amount: \"))\n",
    "r = float(input(\"Enter annuel interest rate (in %): \")) /100\n",
    "n = int(input(\"Enter the number of times interest is compound per year: \" ))\n",
    "t = int(input(\"Enter times the money you invested(in years): \"))\n",
    "\n",
    "A = P * (1+ r/n) ** (n**t)\n",
    "\n",
    "print (\"The compound is:\" ,A)"
   ]
  },
  {
   "cell_type": "code",
   "execution_count": null,
   "id": "de9b9381-a36e-4935-8715-d2a5d3b65b36",
   "metadata": {},
   "outputs": [],
   "source": []
  }
 ],
 "metadata": {
  "kernelspec": {
   "display_name": "Python 3 (ipykernel)",
   "language": "python",
   "name": "python3"
  },
  "language_info": {
   "codemirror_mode": {
    "name": "ipython",
    "version": 3
   },
   "file_extension": ".py",
   "mimetype": "text/x-python",
   "name": "python",
   "nbconvert_exporter": "python",
   "pygments_lexer": "ipython3",
   "version": "3.12.4"
  }
 },
 "nbformat": 4,
 "nbformat_minor": 5
}
